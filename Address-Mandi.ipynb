{
 "cells": [
  {
   "cell_type": "code",
   "execution_count": 1,
   "metadata": {},
   "outputs": [],
   "source": [
    "import sys\n",
    "import pandas as pd\n",
    "from fuzzywuzzy import fuzz"
   ]
  },
  {
   "cell_type": "code",
   "execution_count": 12,
   "metadata": {},
   "outputs": [
    {
     "name": "stdout",
     "output_type": "stream",
     "text": [
      "998\n",
      "900\n",
      "900\n"
     ]
    }
   ],
   "source": [
    "df_sample = pd.read_csv('dample.csv')\n",
    "print(len(df_sample))\n",
    "df_addr_csv = df_sample[['EID','Address1','City','State','Zip Code']]\n",
    "df_addr_csv = df_addr_csv[df_addr_csv['EID'].notna()]\n",
    "df_addr_csv.sort_values(by=['EID'], inplace=True)\n",
    "df_addr_csv = df_addr_csv.drop_duplicates()\n",
    "#print(df_addr_csv)\n",
    "raw_eid = df_addr_csv['EID'].dropna()\n",
    "eid = raw_eid.tolist()\n",
    "print(len(df_addr_csv))\n",
    "print(len(eid))\n",
    "#print(eid)"
   ]
  },
  {
   "cell_type": "code",
   "execution_count": 3,
   "metadata": {},
   "outputs": [],
   "source": [
    "import cx_Oracle\n",
    "connection = cx_Oracle.connect(\"vipapp/ZJf3__6qjRt8@exa1-scan.austin.utexas.edu:1525/viprp_pdb.austin.utexas.edu\")\n",
    "cursor = connection.cursor()\n",
    "cursor.execute(\"select UT_EID, vi_addr_line1, vi_addr_line2, vi_city, vi_state,vi_zip from vi_vips_main m, vi_vips_addresses a  where m.ALUMNI_ID = a.ALUMNI_ID AND m.ut_eid IN %s\" % str(tuple(eid)).replace(',)',')'))\n",
    "df_addr_db = cursor.fetchall()\n",
    "cursor.close()\n",
    "connection.close()\n",
    "#print(df_addr_db)\n",
    "df_addr_db = pd.DataFrame(df_addr_db, columns = ['EID','Address1','Address2','City','State','Zip Code'])\n",
    "#dropping duplicates\n",
    "df_addr_db = df_addr_db.drop_duplicates()\n",
    "df_addr_db = df_addr_db[df_addr_db['Address1'].notna()]\n",
    "#df_addr_db['Address1'].notna()\n",
    "#print(df_addr_db)"
   ]
  },
  {
   "cell_type": "code",
   "execution_count": 44,
   "metadata": {},
   "outputs": [
    {
     "data": {
      "text/plain": [
       "'\\naddr_diff = pd.DataFrame()\\nfor i in range(len(df_addr_csv)):\\n#for i in (11,44,55,66):\\n    flag = 0\\n    id_csv = df_addr_csv.iloc[i,0]\\n    csv_addr = df_addr_csv.iloc[i,1]\\n    cmp_dbaddr = df_addr_db.loc[df_addr_db[\\'EID\\'] == id_csv]\\n    #print(cmp_dbaddr)\\n    #print(df_addr_csv.loc[df_addr_csv[\\'EID\\'] == id_csv])\\n    #print(\"---\")\\n    \\n    for j in range(len(cmp_dbaddr)):\\n        db_addr = cmp_dbaddr.iloc[j,1]\\n        Token_Set_Ratio = fuzz.token_set_ratio(csv_addr,db_addr)\\n        if (Token_Set_Ratio > 77):\\n            flag = 0\\n            break\\n        else:\\n            flag = 1\\n    \\n    #print(\"flag = \", flag)\\n    \\n    if (flag == 1):\\n        addr_diff = addr_diff.append(df_addr_csv.loc[df_addr_csv[\\'EID\\'] == id_csv], ignore_index=True)\\n        addr_diff = addr_diff.append(cmp_dbaddr)\\n\\nprint(\"----------------------------------------------------------------\")\\nprint(addr_diff)\\nprint(\"----------------------------------------------------------------\")\\n'"
      ]
     },
     "execution_count": 44,
     "metadata": {},
     "output_type": "execute_result"
    }
   ],
   "source": [
    "\"\"\"if the number of lines matching EID is more than 1, create a df to put those many rows, \"rows\" while rows >0 and \n",
    " break the loop if the addr comparison for that loop yields token_set_ratio > 83\n",
    "If zipcode differs, state or city or house inside same city might be different\n",
    "If zipcode is same, compare address line 1 and line 2\n",
    "if zipcode is not given, compare city or state before address comparison\n",
    "df_addr\n",
    "id_csv\n",
    "addr_csv\n",
    "addr_db\n",
    "addr_diff\n",
    "\"\"\"\n",
    "'''\n",
    "addr_diff = pd.DataFrame()\n",
    "for i in range(len(df_addr_csv)):\n",
    "#for i in (11,44,55,66):\n",
    "    flag = 0\n",
    "    id_csv = df_addr_csv.iloc[i,0]\n",
    "    csv_addr = df_addr_csv.iloc[i,1]\n",
    "    cmp_dbaddr = df_addr_db.loc[df_addr_db['EID'] == id_csv]\n",
    "    #print(cmp_dbaddr)\n",
    "    #print(df_addr_csv.loc[df_addr_csv['EID'] == id_csv])\n",
    "    #print(\"---\")\n",
    "    \n",
    "    for j in range(len(cmp_dbaddr)):\n",
    "        db_addr = cmp_dbaddr.iloc[j,1]\n",
    "        Token_Set_Ratio = fuzz.token_set_ratio(csv_addr,db_addr)\n",
    "        if (Token_Set_Ratio > 77):\n",
    "            flag = 0\n",
    "            break\n",
    "        else:\n",
    "            flag = 1\n",
    "    \n",
    "    #print(\"flag = \", flag)\n",
    "    \n",
    "    if (flag == 1):\n",
    "        addr_diff = addr_diff.append(df_addr_csv.loc[df_addr_csv['EID'] == id_csv], ignore_index=True)\n",
    "        addr_diff = addr_diff.append(cmp_dbaddr)\n",
    "\n",
    "print(\"----------------------------------------------------------------\")\n",
    "print(addr_diff)\n",
    "print(\"----------------------------------------------------------------\")\n",
    "'''"
   ]
  },
  {
   "cell_type": "code",
   "execution_count": 4,
   "metadata": {},
   "outputs": [
    {
     "name": "stdout",
     "output_type": "stream",
     "text": [
      "----------------------------------------------------------------\n",
      "                  CSV_Address  \\\n",
      "0    11218 S. 276th East Ave.   \n",
      "1                P.O. Box 100   \n",
      "2                 PO Box 7972   \n",
      "3          754 Milestone Park   \n",
      "4                  PO Box 727   \n",
      "..                        ...   \n",
      "122           4330 Bull Creek   \n",
      "123            238 Abiso Ave.   \n",
      "124           2405 W. 9th St.   \n",
      "125             2901 Oakhurst   \n",
      "126        2975 Blackburn St.   \n",
      "\n",
      "                                           DB_Address       EID  \n",
      "0                            [28172 E 115th St South]  0234IBFD  \n",
      "1       [516 Saint Paul Street, 440 Oak Creek Circle]  0254CMBM  \n",
      "2                             [7208 Cut Plains Trail]  0282AANF  \n",
      "3                                 [426 Barretta Loop]  0395VBPT  \n",
      "4                              [470 Bryant Boulevard]  0429EYTY  \n",
      "..                                                ...       ...  \n",
      "122                           [4533 North Versailles]    TWH624  \n",
      "123                                [14 Grayvik Drive]     TWM87  \n",
      "124  [1311 Round Rock Avenue, 2405 West Ninth Street]   VAUSESR  \n",
      "125                           [3000 Willowood Circle]    WWS426  \n",
      "126                          [7802 Deer Ridge Circle]    ZJS237  \n",
      "\n",
      "[127 rows x 3 columns]\n",
      "----------------------------------------------------------------\n"
     ]
    }
   ],
   "source": [
    "addr_diff = pd.DataFrame()\n",
    "for i in range(len(df_addr_csv)):\n",
    "#for i in (11,44,55,66,123,133,143,333,445,667,246,988):\n",
    "    flag = 0\n",
    "    id_csv = df_addr_csv.iloc[i,0]\n",
    "    csv_addr = df_addr_csv.iloc[i,1]\n",
    "    cmp_dbaddr = df_addr_db.loc[df_addr_db['EID'] == id_csv]\n",
    "    #print(cmp_dbaddr)\n",
    "    #print(df_addr_csv.loc[df_addr_csv['EID'] == id_csv])\n",
    "    #print(\"---\")\n",
    "    \n",
    "    for j in range(len(cmp_dbaddr)):\n",
    "        db_addr = cmp_dbaddr.iloc[j,1]\n",
    "        Token_Set_Ratio = fuzz.token_set_ratio(csv_addr,db_addr)\n",
    "        if (Token_Set_Ratio > 77):\n",
    "            flag = 0\n",
    "            break\n",
    "        else:\n",
    "            flag = 1\n",
    "    \n",
    "    #print(\"flag = \", flag)\n",
    "    \n",
    "    if (flag == 1):\n",
    "        addrlist = []\n",
    "        for k in range(len(cmp_dbaddr)):\n",
    "            temp = (cmp_dbaddr.loc[cmp_dbaddr['EID'] == id_csv]).iloc[:,1]\n",
    "            addrlist = temp.values.tolist()\n",
    "        addr_diff = addr_diff.append({'EID':id_csv, 'DB_Address':addrlist,'CSV_Address':csv_addr}, ignore_index=True)\n",
    "print(\"----------------------------------------------------------------\")\n",
    "print(addr_diff)\n",
    "print(\"----------------------------------------------------------------\")"
   ]
  },
  {
   "cell_type": "code",
   "execution_count": 58,
   "metadata": {},
   "outputs": [],
   "source": [
    "addr_diff.to_csv(r'C:\\Users\\le5752\\Documents\\DB_Python\\addr.csv', index = False)"
   ]
  },
  {
   "cell_type": "code",
   "execution_count": 13,
   "metadata": {},
   "outputs": [
    {
     "name": "stdout",
     "output_type": "stream",
     "text": [
      "127\n"
     ]
    }
   ],
   "source": [
    "print(len(addr_diff))"
   ]
  },
  {
   "cell_type": "code",
   "execution_count": 15,
   "metadata": {},
   "outputs": [
    {
     "data": {
      "image/png": "[encoded data removed]",
      "text/plain": [
       "<Figure size 432x288 with 1 Axes>"
      ]
     },
     "metadata": {
      "needs_background": "light"
     },
     "output_type": "display_data"
    }
   ],
   "source": [
    "import matplotlib.pyplot as plt\n",
    "fig = plt.figure()\n",
    "ax = fig.add_axes([0,0,1,1])\n",
    "langs = ['Input:CSV', 'DB_match']\n",
    "students = [len(df_addr_csv),len(addr_diff)]\n",
    "ax.bar(langs,students)\n",
    "plt.show()"
   ]
  },
  {
   "cell_type": "code",
   "execution_count": null,
   "metadata": {},
   "outputs": [],
   "source": []
  }
 ],
 "metadata": {
  "kernelspec": {
   "display_name": "Python 3",
   "language": "python",
   "name": "python3"
  },
  "language_info": {
   "codemirror_mode": {
    "name": "ipython",
    "version": 3
   },
   "file_extension": ".py",
   "mimetype": "text/x-python",
   "name": "python",
   "nbconvert_exporter": "python",
   "pygments_lexer": "ipython3",
   "version": "3.7.7"
  }
 },
 "nbformat": 4,
 "nbformat_minor": 4
}
