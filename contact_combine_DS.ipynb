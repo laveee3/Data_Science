{
 "cells": [
  {
   "cell_type": "code",
   "execution_count": 19,
   "metadata": {},
   "outputs": [],
   "source": [
    "# importing pandas module   \n",
    "import pandas as pd   \n",
    "      \n",
    "# making data frame   \n",
    "df_addr = pd.read_csv(r\"C:\\Users\\Documents\\DB_Python\\addr.csv\")   \n",
    "df_phone = pd.read_csv(r\"C:\\Users\\Documents\\DB_Python\\ph.csv\") \n",
    "df_email = pd.read_csv(r\"C:\\Users\\Documents\\DB_Python\\email_diff_July10.csv\") \n",
    "#df_email.head(10) \n",
    "#df_phone.head(10)\n",
    "#df_addr.head(10)\n",
    "frames = [df_email, df_phone, df_addr]\n",
    "#result = pd.concat(frames)\n",
    "result = pd.merge(df_email, df_phone, how='outer');\n",
    "result1 = pd.merge(df_addr, result, how='outer');"
   ]
  },
  {
   "cell_type": "code",
   "execution_count": 20,
   "metadata": {},
   "outputs": [],
   "source": [
    "result1.to_csv(r'C:\\Users\\Documents\\DB_Python\\Final.csv', index = False)\n"
   ]
  },
  {
   "cell_type": "code",
   "execution_count": null,
   "metadata": {},
   "outputs": [],
   "source": []
  }
 ],
 "metadata": {
  "kernelspec": {
   "display_name": "Python 3",
   "language": "python",
   "name": "python3"
  },
  "language_info": {
   "codemirror_mode": {
    "name": "ipython",
    "version": 3
   },
   "file_extension": ".py",
   "mimetype": "text/x-python",
   "name": "python",
   "nbconvert_exporter": "python",
   "pygments_lexer": "ipython3",
   "version": "3.7.7"
  }
 },
 "nbformat": 4,
 "nbformat_minor": 4
}
