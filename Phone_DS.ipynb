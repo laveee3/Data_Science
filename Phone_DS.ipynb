{
 "cells": [
  {
   "cell_type": "code",
   "execution_count": 16,
   "metadata": {},
   "outputs": [],
   "source": [
    "import sys\n",
    "import re\n",
    "import pandas as pd\n",
    "df_sample = pd.read_csv('dample.csv')\n",
    "\n",
    "df_ph_csv = df_sample[['EID','Home Phone']]\n",
    "df_ph_csv = df_ph_csv[df_ph_csv['EID'].notna()] # drops only rows where eid column is na\n",
    "#df_ph_csv = df_ph_csv.dropna() #drops all rows that 'na' in any columns\n",
    "#adding empty column\n",
    "df_ph_csv['telephone'] = ''\n",
    "#print(df_ph_csv)\n",
    "raw_eid = df_ph_csv['EID'].dropna()\n",
    "eid = raw_eid.tolist()\n",
    "for i in range(len(df_ph_csv)) : \n",
    "    #df_ph_csv.iloc[i,2]=re.findall(r'[\\+\\(]?[1-9][0-9 .\\-\\(\\)]{8,}[0-9]',df_ph_csv.iloc[i,1])\n",
    "    if pd.isnull(df_ph_csv.iloc[i,1]):\n",
    "        continue\n",
    "    df_ph_csv.iloc[i,2]=df_ph_csv.iloc[i,1].replace(\"(\",\"\").replace(\")\",\"\").replace(\"-\",\"\").replace(\"/\",\"\")\n",
    "    #print(df_ph_csv.iloc[i,2])\n",
    "#print(df_ph_csv)"
   ]
  },
  {
   "cell_type": "code",
   "execution_count": 17,
   "metadata": {},
   "outputs": [
    {
     "ename": "DatabaseError",
     "evalue": "ORA-12170: TNS:Connect timeout occurred",
     "output_type": "error",
     "traceback": [
      "\u001b[1;31m---------------------------------------------------------------------------\u001b[0m",
      "\u001b[1;31mDatabaseError\u001b[0m                             Traceback (most recent call last)",
      "\u001b[1;32m<ipython-input-17-480e7e09e54e>\u001b[0m in \u001b[0;36m<module>\u001b[1;34m\u001b[0m\n\u001b[0;32m      1\u001b[0m \u001b[1;32mimport\u001b[0m \u001b[0mcx_Oracle\u001b[0m\u001b[1;33m\u001b[0m\u001b[1;33m\u001b[0m\u001b[0m\n\u001b[1;32m----> 2\u001b[1;33m \u001b[0mconnection\u001b[0m \u001b[1;33m=\u001b[0m \u001b[0mcx_Oracle\u001b[0m\u001b[1;33m.\u001b[0m\u001b[0mconnect\u001b[0m\u001b[1;33m(\u001b[0m\u001b[1;34m\"xxxxx/xxxx@yyyyyys.com:9999/xxxxx.yyyy.com\"\u001b[0m\u001b[1;33m)\u001b[0m\u001b[1;33m\u001b[0m\u001b[1;33m\u001b[0m\u001b[0m\n\u001b[0m\u001b[0;32m      3\u001b[0m \u001b[0mcursor\u001b[0m \u001b[1;33m=\u001b[0m \u001b[0mconnection\u001b[0m\u001b[1;33m.\u001b[0m\u001b[0mcursor\u001b[0m\u001b[1;33m(\u001b[0m\u001b[1;33m)\u001b[0m\u001b[1;33m\u001b[0m\u001b[1;33m\u001b[0m\u001b[0m\n\u001b[0;32m      4\u001b[0m \u001b[0mcursor\u001b[0m\u001b[1;33m.\u001b[0m\u001b[0mexecute\u001b[0m\u001b[1;33m(\u001b[0m\u001b[1;34m\"select UT_EID, vi_phone_area_code, vi_phone_nbr from vi_vips_main m, vi_vips_phone_info p where m.ALUMNI_ID = p.ALUMNI_ID AND m.ut_eid IN %s\"\u001b[0m \u001b[1;33m%\u001b[0m \u001b[0mstr\u001b[0m\u001b[1;33m(\u001b[0m\u001b[0mtuple\u001b[0m\u001b[1;33m(\u001b[0m\u001b[0meid\u001b[0m\u001b[1;33m)\u001b[0m\u001b[1;33m)\u001b[0m\u001b[1;33m.\u001b[0m\u001b[0mreplace\u001b[0m\u001b[1;33m(\u001b[0m\u001b[1;34m',)'\u001b[0m\u001b[1;33m,\u001b[0m\u001b[1;34m')'\u001b[0m\u001b[1;33m)\u001b[0m\u001b[1;33m)\u001b[0m\u001b[1;33m\u001b[0m\u001b[1;33m\u001b[0m\u001b[0m\n\u001b[0;32m      5\u001b[0m \u001b[0mresults\u001b[0m \u001b[1;33m=\u001b[0m \u001b[0mcursor\u001b[0m\u001b[1;33m.\u001b[0m\u001b[0mfetchall\u001b[0m\u001b[1;33m(\u001b[0m\u001b[1;33m)\u001b[0m\u001b[1;33m\u001b[0m\u001b[1;33m\u001b[0m\u001b[0m\n",
      "\u001b[1;31mDatabaseError\u001b[0m: ORA-12170: TNS:Connect timeout occurred"
     ]
    }
   ],
   "source": [
    "import cx_Oracle\n",
    "connection = cx_Oracle.connect(\"xxxxx/xxxx@yyyyyys.com:9999/xxxxx.yyyy.com\")\n",
    "cursor = connection.cursor()\n",
    "cursor.execute(\"select EID, phone_area_code, phone_nbr from cips_main m, cips_phone_info p where m.ALUMNI_ID = p.ALUMNI_ID AND m.ut_eid IN %s\" % str(tuple(eid)).replace(',)',')'))\n",
    "results = cursor.fetchall()\n",
    "df_ph_db = results\n",
    "cursor.close()\n",
    "connection.close()\n",
    "print(df_ph_db)\n",
    "df_ph_db = pd.DataFrame(results, columns = ['EID','Area','phone'])\n",
    "#dropping duplicates\n",
    "df_ph_db = df_ph_db.drop_duplicates()\n",
    "print(df_ph_db)"
   ]
  },
  {
   "cell_type": "code",
   "execution_count": 13,
   "metadata": {},
   "outputs": [
    {
     "name": "stdout",
     "output_type": "stream",
     "text": [
      "           EID Area    phone   telephone\n",
      "0     0223RZWI  361  4632443  3614632443\n",
      "1     0227VECQ  956  3305027  9563305027\n",
      "3     0228CVDP  512  7316755  5127316755\n",
      "4     0234IBFD  217  5774677  2175774677\n",
      "5     0252RFCH  254  6981590  2546981590\n",
      "...        ...  ...      ...         ...\n",
      "2054     ZACKH  409  8325611  4098325611\n",
      "2055     ZACKH  409  8383969  4098383969\n",
      "2056     ZACKH  409  7824193  4097824193\n",
      "2058     ZACKH  409  8962852  4098962852\n",
      "2059    ZJS237  512  6956461  5126956461\n",
      "\n",
      "[1996 rows x 4 columns]\n"
     ]
    }
   ],
   "source": [
    "df_ph_db[\"telephone\"] = df_ph_db[\"Area\"].astype(str) + df_ph_db[\"phone\"].astype(str)\n",
    "#df_ph_db[\"telephone\"] = df_ph_db[\"Area\"] + df_ph_db[\"phone\"]\n",
    "print(df_ph_db)\n",
    "#print(df_ph_db.iloc[:,3])"
   ]
  },
  {
   "cell_type": "code",
   "execution_count": 1,
   "metadata": {},
   "outputs": [],
   "source": [
    "# the phone number columns are string type and they are being converted to numeric \n",
    "#df_ph_db[['Area', 'phone','telephone']] = df_ph_db[['Area', 'phone','telephone']].apply(pd.to_numeric)\n",
    "#print(df_ph_db.dtypes)"
   ]
  },
  {
   "cell_type": "code",
   "execution_count": 25,
   "metadata": {},
   "outputs": [
    {
     "name": "stdout",
     "output_type": "stream",
     "text": [
      "0      512 5854209\n",
      "1       3184581505\n",
      "2       2146740564\n",
      "3       5122930468\n",
      "4       5126899957\n",
      "          ...     \n",
      "385     8172472483\n",
      "386               \n",
      "387               \n",
      "388               \n",
      "389               \n",
      "Name: telephone, Length: 358, dtype: object\n"
     ]
    }
   ],
   "source": [
    "df_phone = pd.DataFrame()\n",
    "#print(df_email)\n",
    "for i in range(len(df_ph_csv)):\n",
    "    id_csv = df_ph_csv.iloc[i,0]\n",
    "    ph_csv = df_ph_csv.iloc[i,2]\n",
    "    ph_db = (df_ph_db.loc[df_ph_db['EID'] == id_csv]).iloc[:,3]\n",
    "    ph_db = {*ph_db}\n",
    "    #print(ph_db, ph_csv)\n",
    "    ph_csv = {ph_csv}\n",
    "    diff = (ph_csv - ph_db)\n",
    "    if len(diff) > 0:\n",
    "            df_phone = df_phone.append({'EID':id_csv, 'telephone':df_ph_csv.iloc[i,2]}, ignore_index=True)\n",
    "\n",
    "df_phone = df_phone.drop_duplicates()\n",
    "#print(df_phone)\n",
    "#df_phone.to_csv(r'C:\\Users\\le5752\\Documents\\DB_Python\\ph.csv', index = False)\n",
    "\n",
    "df_phone['DB_phone'] = ''\n",
    "for i in range(len(df_phone)):\n",
    "    id_csv = df_phone.iloc[i,0]\n",
    "    ph_db = (df_ph_db.loc[df_ph_db['EID'] == id_csv]).iloc[:,3]\n",
    "    #print(ph_db)\n",
    "    df_phone.iloc[i,2] = ph_db.values.tolist()\n",
    "    \n",
    "df_phone = df_phone[df_phone['telephone'].notna()] \n",
    "df_phone['telephone'].dropna()\n",
    "print(df_phone['telephone'].dropna())\n",
    "#df_phone.to_csv(r'C:\\Users\\le5752\\Documents\\DB_Python\\ph.csv', index = False)\n"
   ]
  }
 ],
 "metadata": {
  "kernelspec": {
   "display_name": "Python 3",
   "language": "python",
   "name": "python3"
  },
  "language_info": {
   "codemirror_mode": {
    "name": "ipython",
    "version": 3
   },
   "file_extension": ".py",
   "mimetype": "text/x-python",
   "name": "python",
   "nbconvert_exporter": "python",
   "pygments_lexer": "ipython3",
   "version": "3.7.7"
  }
 },
 "nbformat": 4,
 "nbformat_minor": 4
}
